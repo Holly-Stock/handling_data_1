{
  "cells": [
    {
      "cell_type": "markdown",
      "source": "## Python Data Types Challenge\n\n> Handling common [Python Data Types](https://www.w3schools.com/python/python_datatypes.asp).\n\n1. ##### Remember to onboard a problem solving process and engage your community!\n\n2. ##### Use `print()` to output your solutions. E.g. printing out all the data types in the `random_list`:\n",
      "metadata": {
        "tags": [],
        "output_cleared": false,
        "cell_id": "00000-dbe03cea-5e6e-407d-aed3-b4e88933d4d9",
        "deepnote_cell_type": "markdown"
      }
    },
    {
      "cell_type": "code",
      "metadata": {
        "tags": [],
        "cell_id": "00001-540d393c-d023-4e1e-b617-8ceaa510cb39",
        "deepnote_to_be_reexecuted": false,
        "source_hash": "361f836c",
        "execution_millis": 10,
        "execution_start": 1619034265372,
        "deepnote_cell_type": "code"
      },
      "source": "random_list = [\"1\", 2, 3.00, [4, 5], {\"number\": 6.0}]\n\ndata_types = [type(item) for item in random_list]\n\nprint(data_types)\n",
      "execution_count": 1,
      "outputs": [
        {
          "name": "stdout",
          "text": "[<class 'str'>, <class 'int'>, <class 'float'>, <class 'list'>, <class 'dict'>]\n",
          "output_type": "stream"
        }
      ]
    },
    {
      "cell_type": "markdown",
      "source": "### Strings (str)",
      "metadata": {
        "tags": [],
        "cell_id": "00001-1478b2a8-8942-43ef-9d25-daaa25117135",
        "deepnote_cell_type": "markdown"
      }
    },
    {
      "cell_type": "code",
      "metadata": {
        "tags": [],
        "cell_id": "00002-96634c9e-41d7-4ac3-a3d9-a14c9952fc90",
        "deepnote_to_be_reexecuted": false,
        "source_hash": "fd5a7657",
        "execution_millis": 16,
        "execution_start": 1619034265379,
        "deepnote_cell_type": "code"
      },
      "source": "name = \"Lionel Messi\"\n\n# Return a first name\nfirst_name = name.split()[0]\nprint(first_name)\n\n# Return a last name\nlast_name = name.split()[-1]\nprint(last_name)\n\n# Return the name in lowercase\nprint(name.lower())\n\n# Remove the space inbetween the name\nprint(name.replace(\" \",\"\"))\n\n# Print the name out like so: \"Messi, Lionel\"\nprint(last_name.strip(),\",\",first_name.strip())\n\n# WHY ARE THERE SPACES IN THE LAST OUTPUT, EVEN WHEN I USE STRIP?",
      "execution_count": 2,
      "outputs": [
        {
          "name": "stdout",
          "text": "Lionel\nMessi\nlionel messi\nLionelMessi\nMessi , Lionel\n",
          "output_type": "stream"
        }
      ]
    },
    {
      "cell_type": "markdown",
      "source": "### Numbers (int, float)\n",
      "metadata": {
        "tags": [],
        "cell_id": "00004-5fc5c02c-5107-45ab-8faa-8aa1bb368f72",
        "deepnote_cell_type": "markdown"
      }
    },
    {
      "cell_type": "code",
      "metadata": {
        "tags": [],
        "cell_id": "00003-24a62ac1-c3e4-48d7-b4ba-22ccea6fdad9",
        "deepnote_to_be_reexecuted": false,
        "source_hash": "edad4a49",
        "execution_millis": 29,
        "output_cleared": false,
        "execution_start": 1619034265388,
        "deepnote_cell_type": "code"
      },
      "source": "mass_kg = \"50kg\"\ntime_secs = 7\nvelocity_ms = 12.35\n\n# Return Acceleration (velocity / time)\nacceleration = velocity_ms / time_secs\nprint(\"Acceleration is\",acceleration,\" m/s^2\")\n\n# Format mass_kg variable into a float (e.g. 50.00)\nmass_float = float(mass_kg.replace(\"kg\",\"\"))\nprint(\"Mass is\",\"{:.2f}\".format(mass_float),\" kg\")\n\n# Return Force (mass * acceleration)\nforce = mass_float * acceleration\nprint(\"Force is: \",force,\" N\")\n\n# Round force down to three decimal places\nprint(\"or to 3 d.p.\",\"{:.3f}\".format(force),\"N\")\n",
      "execution_count": 3,
      "outputs": [
        {
          "name": "stdout",
          "text": "Acceleration is 1.7642857142857142  m/s^2\nMass is 50.00  kg\nForce is:  88.21428571428571  N\nor to 3 d.p. 88.214 N\n",
          "output_type": "stream"
        }
      ]
    },
    {
      "cell_type": "markdown",
      "source": "### Lists (list)",
      "metadata": {
        "tags": [],
        "cell_id": "00006-fc8ab289-d1d0-4121-bacb-ef5309accb86",
        "deepnote_cell_type": "markdown"
      }
    },
    {
      "cell_type": "code",
      "metadata": {
        "tags": [],
        "cell_id": "00007-386aac4c-1ddc-4254-be96-6209f1a317b0",
        "deepnote_to_be_reexecuted": false,
        "source_hash": "5e77dfee",
        "execution_millis": 13,
        "execution_start": 1619035250320,
        "deepnote_cell_type": "code"
      },
      "source": "import numpy as np # for generating random list of integers\n\nls = list(np.random.randint(100, size=(50)))\n\n# Return the 10th number in the list\nprint(\"The 10th number in the list is: \",ls[9])\n\n# Return the last 10 numbers in the list\nprint(\"The last 10 numbers in the list are: \",ls[-10:])\n\n# Sum the numbers in the list\nprint(\"The sum of all the numbers in the list is: \",sum(ls))\n\n# Unique the numbers in the list\nunique_values = np.unique(ls)\nprint(\"The unique values in the list are: \",unique_values)\n\n# Return the largest number\nprint(\"The largest number in the list is: \",max(ls))\n\n# Return a sorted list (in reverse)\nls.sort(reverse=True)\nprint(\"My reverse sorted list of numbers is: \",ls)\n# I TRIED TO CREATE A NEW VARIABLE AND IT DIDN'T WORK\n\n# Loop over each number and append the number to a new list if it is less than or equal too 50\nnew_ls = []\nfor item in ls:\n    if item >= 50:\n        new_ls.append(item)\n\nprint(\"The numbers greater than 50 in this list are: \",new_ls)",
      "execution_count": 21,
      "outputs": [
        {
          "name": "stdout",
          "text": "The 10th number in the list is:  90\nThe last 10 numbers in the list are:  [7, 39, 69, 29, 20, 63, 14, 55, 80, 98]\nThe sum of all the numbers in the list is:  2579\nThe unique values in the list are:  [ 0  7  9 11 12 14 15 19 20 21 27 28 29 31 37 39 40 41 42 48 49 52 55 56\n 59 61 62 63 64 68 69 71 75 77 78 80 84 85 88 90 92 98]\nThe largest number in the list is:  98\nMy reverse sorted list of numbers is:  [98, 92, 92, 90, 88, 85, 84, 80, 78, 78, 77, 77, 75, 75, 71, 71, 69, 68, 64, 64, 63, 62, 61, 59, 56, 55, 52, 49, 49, 48, 42, 41, 40, 39, 37, 31, 29, 28, 27, 21, 20, 19, 15, 14, 12, 11, 9, 7, 7, 0]\nThe numbers greater than 50 in this list are:  [98, 92, 92, 90, 88, 85, 84, 80, 78, 78, 77, 77, 75, 75, 71, 71, 69, 68, 64, 64, 63, 62, 61, 59, 56, 55, 52]\n",
          "output_type": "stream"
        }
      ]
    },
    {
      "cell_type": "markdown",
      "source": "### Dictionaries (dict)",
      "metadata": {
        "tags": [],
        "cell_id": "00007-5e88d7c9-3d7d-490b-a5ed-4a46b4f45e39",
        "deepnote_cell_type": "markdown"
      }
    },
    {
      "cell_type": "code",
      "metadata": {
        "tags": [],
        "cell_id": "00009-f0d0b48d-72b5-4e2f-bbe8-5eddf33d139c",
        "deepnote_to_be_reexecuted": false,
        "source_hash": "60f3b1f7",
        "execution_millis": 50,
        "execution_start": 1619036780279,
        "deepnote_cell_type": "code"
      },
      "source": "punch_labels = {\n    1: 'Jab', \n    2: 'Straight', \n    3: 'Hook', \n    4: 'Uppercut'\n}\n\n# Print all the keys\nprint(punch_labels.keys())\n\n# Print all the values\nprint(punch_labels.values())\n\n# Print the value for the key 3\nprint(punch_labels[3])\n\n# Loop and print the value and it's respective key for each key value pair within punch_labels\nfor key in punch_labels:\n    print(\"Key: \",key, \" Type of punch: \",punch_labels[key])\n\n# Create a function the will output the following lists as a series of punches (using the punch_labels)\ncombo_one = [1,1,3,2,3,4]\ncombo_two = [1,1,3,2,3,\"4\"]\ncombo_three = [1,1,3,5,3,4]\n\ndef instruct_punches(combo):\n    print(\"Punch combination:\")\n    for item in combo:\n        if type(item) == int:\n            # convert all itemsin the list to integers and print\n            print(punch_labels[int(combo_one[item])])\n\n\ninstruct_punches(combo_one)\ninstruct_punches(combo_two)\ninstruct_punches(combo_three)\n",
      "execution_count": 39,
      "outputs": [
        {
          "name": "stdout",
          "text": "dict_keys([1, 2, 3, 4])\ndict_values(['Jab', 'Straight', 'Hook', 'Uppercut'])\nHook\nKey:  1  Type of punch:  Jab\nKey:  2  Type of punch:  Straight\nKey:  3  Type of punch:  Hook\nKey:  4  Type of punch:  Uppercut\nPunch combination:\nJab\nJab\nStraight\nHook\nStraight\nHook\nPunch combination:\nJab\nJab\nStraight\nHook\nStraight\nPunch combination:\nJab\nJab\nStraight\nUppercut\nStraight\nHook\n",
          "output_type": "stream"
        }
      ]
    },
    {
      "cell_type": "markdown",
      "source": "### List of Dictionaries\n\n1. ##### Inspect the data within the `data` folder.\n2. ##### In this challenge we simply have a dataset containing all the goal scorers (and tallies) in the 2019/20 season.\n3. ##### You can see the same data in two different formats. One is `csv` (you can open it up in excel) and one is `json` (you can open it up in any plain text editor). If you have not heard of JSON data before, it is a common data storage/exchange format along with CSV and XML. You can get an indepth introduction to JSON with Pyhon [here](https://www.w3schools.com/python/python_json.asp) (if you havn't already).\n4. ##### JSON data shares similar if not identical data formats to Python e.g.",
      "metadata": {
        "tags": [],
        "cell_id": "00009-dd4bc043-6b4d-47b8-9d82-001d5ddfc8d4",
        "deepnote_cell_type": "markdown"
      }
    },
    {
      "cell_type": "code",
      "metadata": {
        "tags": [],
        "cell_id": "00006-f8483929-78ce-4637-83c0-146444c0611d",
        "deepnote_to_be_reexecuted": false,
        "source_hash": "ec1545d1",
        "execution_millis": 34,
        "output_cleared": false,
        "execution_start": 1619038012438,
        "deepnote_cell_type": "code"
      },
      "source": "import json\n\ndata_file = open('data/epl_goals_19_20.json') # open data file from data folder\n\nepl_goals_databse = json.load(data_file) # deserialising json into native python format/data structures\n\n# Print the data type of the epl_goals_database\nprint(type(epl_goals_databse))\n\n# Print the second item within the epl_goals_database (should be Aubameyang)\nprint(epl_goals_databse[1])\n\n# Return the epl_goals_database only containing the first 3 items\nfirst_three_epl_goals_database = epl_goals_databse[0:3]\nprint(first_three_epl_goals_database)\n\n# Print the name and goals scored of the 10th player in the list\nprint(epl_goals_databse[9])\nprint(\"Name:\", epl_goals_databse[9][\"Player\"],\", Goals scored:\", epl_goals_databse[9][\"Stat\"])\n\n# Loop through the list and print out the data for each dict as a newly formatted string, like so: Jamie Vardy, Leicester City, England (23) \nfor item in range(len(first_three_epl_goals_database)):\n    print(epl_goals_databse[item][\"Player\"],\", \",epl_goals_databse[item][\"Club\"],\", \",epl_goals_databse[item][\"Nationality\"],\" (\",epl_goals_databse[item][\"Stat\"],\")\")\n\n# WHY ARE THERE SPACES IN MINE?\n\n# Return a list of unique nationalities. Sort the list.\nnationalities = []\nfor item in range(len(epl_goals_databse)):\n    nationalities.append(epl_goals_databse[item][\"Nationality\"])\n\nunique_nationalities = np.unique(nationalities)\n# WHY WAS IT ALREADY IN ALPHABETICAL ORDER BEFORE I SORTED IT?\nunique_nationalities = sorted(unique_nationalities)\nprint(\"Unique nationalities: \",unique_nationalities)\n",
      "execution_count": 56,
      "outputs": [
        {
          "name": "stdout",
          "text": "<class 'list'>\n{'Rank': 2.0, 'Player': 'Pierre-Emerick Aubameyang', 'Club': 'Arsenal', 'Nationality': 'Gabon', 'Stat': 22}\n[{'Rank': 1.0, 'Player': 'Jamie Vardy', 'Club': 'Leicester City', 'Nationality': 'England', 'Stat': 23}, {'Rank': 2.0, 'Player': 'Pierre-Emerick Aubameyang', 'Club': 'Arsenal', 'Nationality': 'Gabon', 'Stat': 22}, {'Rank': 2.0, 'Player': 'Danny Ings', 'Club': 'Southampton', 'Nationality': 'England', 'Stat': 22}]\n{'Rank': 8.0, 'Player': 'Marcus Rashford', 'Club': 'Manchester United', 'Nationality': 'England', 'Stat': 17}\nName: Marcus Rashford , Goals scored: 17\nJamie Vardy ,  Leicester City ,  England  ( 23 )\nPierre-Emerick Aubameyang ,  Arsenal ,  Gabon  ( 22 )\nDanny Ings ,  Southampton ,  England  ( 22 )\nUnique nationalities:  ['Algeria', 'Argentina', 'Australia', 'Austria', 'Belgium', 'Bosnia And Herzegovina', 'Brazil', 'Cameroon', 'Colombia', \"Cote D'Ivoire\", 'Croatia', 'Cuba', 'Czech Republic', 'Denmark', 'Egypt', 'England', 'Finland', 'France', 'Gabon', 'Germany', 'Ghana', 'Greece', 'Guinea', 'Iceland', 'Iran', 'Ireland', 'Italy', 'Mali', 'Mexico', 'Morocco', 'Netherlands', 'New Zealand', 'Nigeria', 'Northern Ireland', 'Norway', 'Paraguay', 'Poland', 'Portugal', 'Romania', 'Scotland', 'Senegal', 'Serbia', 'South Korea', 'Spain', 'Sweden', 'Switzerland', 'Tanzania', 'Turkey', 'Ukraine', 'United States', 'Uruguay', 'Wales']\n",
          "output_type": "stream"
        }
      ]
    },
    {
      "cell_type": "code",
      "metadata": {
        "tags": [],
        "cell_id": "00012-c0db9825-5396-4154-bdc6-da16410dd8b3",
        "is_code_hidden": false,
        "deepnote_to_be_reexecuted": false,
        "source_hash": "7f99c7cf",
        "execution_start": 1619034265455,
        "execution_millis": 5,
        "deepnote_cell_type": "code"
      },
      "source": "sorted(list(set([epl_goals_obj['Nationality'] for epl_goals_obj in epl_goals_databse])))",
      "execution_count": 7,
      "outputs": [
        {
          "output_type": "execute_result",
          "execution_count": 7,
          "data": {
            "text/plain": "['Algeria',\n 'Argentina',\n 'Australia',\n 'Austria',\n 'Belgium',\n 'Bosnia And Herzegovina',\n 'Brazil',\n 'Cameroon',\n 'Colombia',\n \"Cote D'Ivoire\",\n 'Croatia',\n 'Cuba',\n 'Czech Republic',\n 'Denmark',\n 'Egypt',\n 'England',\n 'Finland',\n 'France',\n 'Gabon',\n 'Germany',\n 'Ghana',\n 'Greece',\n 'Guinea',\n 'Iceland',\n 'Iran',\n 'Ireland',\n 'Italy',\n 'Mali',\n 'Mexico',\n 'Morocco',\n 'Netherlands',\n 'New Zealand',\n 'Nigeria',\n 'Northern Ireland',\n 'Norway',\n 'Paraguay',\n 'Poland',\n 'Portugal',\n 'Romania',\n 'Scotland',\n 'Senegal',\n 'Serbia',\n 'South Korea',\n 'Spain',\n 'Sweden',\n 'Switzerland',\n 'Tanzania',\n 'Turkey',\n 'Ukraine',\n 'United States',\n 'Uruguay',\n 'Wales']"
          },
          "metadata": {}
        }
      ]
    },
    {
      "cell_type": "markdown",
      "source": "<a style='text-decoration:none;line-height:16px;display:flex;color:#5B5B62;padding:10px;justify-content:end;' href='https://deepnote.com?utm_source=created-in-deepnote-cell&projectId=4eeb6b75-1592-4365-b868-8287cd1872fa' target=\"_blank\">\n<img alt='Created in deepnote.com' style='display:inline;max-height:16px;margin:0px;margin-right:7.5px;' src='data:image/svg+xml;base64,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' > </img>\nCreated in <span style='font-weight:600;margin-left:4px;'>Deepnote</span></a>",
      "metadata": {
        "tags": [],
        "created_in_deepnote_cell": true,
        "deepnote_cell_type": "markdown"
      }
    }
  ],
  "nbformat": 4,
  "nbformat_minor": 2,
  "metadata": {
    "orig_nbformat": 2,
    "deepnote_notebook_id": "fb188d89-ca2d-494c-b275-13369e09dcd4",
    "deepnote_execution_queue": [],
    "deepnote": {}
  }
}